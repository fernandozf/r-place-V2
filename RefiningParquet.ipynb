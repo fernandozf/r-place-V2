{
 "cells": [
  {
   "cell_type": "code",
   "execution_count": 1,
   "id": "24445e29-ec53-421b-977c-0182a2254c7c",
   "metadata": {},
   "outputs": [
    {
     "name": "stdout",
     "output_type": "stream",
     "text": [
      "Requirement already satisfied: polars in /home/ec2-user/anaconda3/envs/python3/lib/python3.10/site-packages (0.20.7)\n"
     ]
    }
   ],
   "source": [
    "! pip install polars"
   ]
  },
  {
   "cell_type": "code",
   "execution_count": 2,
   "id": "0b27708a-7300-4da2-a91f-08541f0bda5f",
   "metadata": {
    "tags": []
   },
   "outputs": [
    {
     "name": "stderr",
     "output_type": "stream",
     "text": [
      "/home/ec2-user/anaconda3/envs/python3/lib/python3.10/site-packages/pandas/core/computation/expressions.py:21: UserWarning: Pandas requires version '2.8.0' or newer of 'numexpr' (version '2.7.3' currently installed).\n",
      "  from pandas.core.computation.check import NUMEXPR_INSTALLED\n"
     ]
    }
   ],
   "source": [
    "import pandas as pd\n",
    "import boto3\n",
    "import matplotlib.pyplot as plt\n",
    "import s3fs\n",
    "import polars as pl"
   ]
  },
  {
   "cell_type": "code",
   "execution_count": 3,
   "id": "02d72328-f496-45f7-b219-98737d3213de",
   "metadata": {
    "tags": []
   },
   "outputs": [],
   "source": [
    "#scanning in our parquet from s3\n",
    "source = \"s3://alexaevafernando/combined-full.parquet\"\n",
    "df = pl.scan_parquet(source)"
   ]
  },
  {
   "cell_type": "code",
   "execution_count": 4,
   "id": "aab9e415-3f42-4c9b-aab1-1d033854859a",
   "metadata": {
    "tags": []
   },
   "outputs": [],
   "source": [
    "#find unique users\n",
    "unique_users_df = df.select('user').unique().collect()"
   ]
  },
  {
   "cell_type": "code",
   "execution_count": 5,
   "id": "da2cc251-cb0e-443a-a9d4-13746dcf31ea",
   "metadata": {
    "tags": []
   },
   "outputs": [],
   "source": [
    "#creating a user dictionary to reduce size of usernames\n",
    "user_id_mapping = (unique_users_df.with_columns(pl.arange(0, unique_users_df.height, eager=True).alias('user_id')))\n"
   ]
  },
  {
   "cell_type": "code",
   "execution_count": 6,
   "id": "b41101fb-c730-4f99-8d49-ecae05a94082",
   "metadata": {
    "tags": []
   },
   "outputs": [],
   "source": [
    "#assigning each user its id in the original df\n",
    "\n",
    "user_id_mapping_lazy = user_id_mapping.lazy()\n",
    "\n",
    "df = df.join(user_id_mapping_lazy, on='user')\n",
    "\n",
    "df = df.drop(['user'])\n",
    "df = df.rename({\"user_id\":\"user\"})"
   ]
  },
  {
   "cell_type": "code",
   "execution_count": 7,
   "id": "660ef60e-5cc7-4a79-bac4-56ac5721f9ba",
   "metadata": {
    "tags": []
   },
   "outputs": [],
   "source": [
    "df_print = df.collect()"
   ]
  },
  {
   "cell_type": "code",
   "execution_count": 10,
   "id": "231ba7b7-41be-46f6-9c1c-4bc7595f3ead",
   "metadata": {
    "tags": []
   },
   "outputs": [
    {
     "data": {
      "text/html": [
       "<div><style>\n",
       ".dataframe > thead > tr,\n",
       ".dataframe > tbody > tr {\n",
       "  text-align: right;\n",
       "  white-space: pre-wrap;\n",
       "}\n",
       "</style>\n",
       "<small>shape: (1, 1)</small><table border=\"1\" class=\"dataframe\"><thead><tr><th>user</th></tr><tr><td>u32</td></tr></thead><tbody><tr><td>8589732</td></tr></tbody></table></div>"
      ],
      "text/plain": [
       "shape: (1, 1)\n",
       "┌─────────┐\n",
       "│ user    │\n",
       "│ ---     │\n",
       "│ u32     │\n",
       "╞═════════╡\n",
       "│ 8589732 │\n",
       "└─────────┘"
      ]
     },
     "execution_count": 10,
     "metadata": {},
     "output_type": "execute_result"
    }
   ],
   "source": [
    "df_print.select(\"user\").unique().count()"
   ]
  },
  {
   "cell_type": "code",
   "execution_count": 11,
   "id": "c1f233b9-f4d1-4d07-9878-a271d210e09b",
   "metadata": {
    "tags": []
   },
   "outputs": [],
   "source": [
    "#sort by user and timestamp\n",
    "sorted_df = df.sort(['user','timestamp'])"
   ]
  },
  {
   "cell_type": "code",
   "execution_count": 12,
   "id": "7c359938-8534-4817-ae8f-8184c7f914a0",
   "metadata": {
    "tags": []
   },
   "outputs": [],
   "source": [
    "#use sorted dataframe to calculate time differences between each pixel placed by user\n",
    "time_df_df = sorted_df.with_columns([pl.col(\"timestamp\").diff().over(\"user\").alias(\"time_diff\")])"
   ]
  },
  {
   "cell_type": "code",
   "execution_count": 13,
   "id": "66b7c77e-a4f2-4f77-a44f-aab1cb2e0158",
   "metadata": {
    "tags": []
   },
   "outputs": [],
   "source": [
    "result = time_df_df.collect()"
   ]
  },
  {
   "cell_type": "code",
   "execution_count": 15,
   "id": "9e44cdf0-4ced-414d-a9d6-a945e397d917",
   "metadata": {
    "tags": []
   },
   "outputs": [],
   "source": [
    "#calculate in minutes\n",
    "result = result.with_columns([(pl.col('time_diff').dt.total_seconds()/60).alias(\"time_diff_min\")])"
   ]
  },
  {
   "cell_type": "code",
   "execution_count": 16,
   "id": "0396d204-3a36-427d-af00-56b8c13d1ec4",
   "metadata": {
    "tags": []
   },
   "outputs": [],
   "source": [
    "client = boto3.client('s3')"
   ]
  },
  {
   "cell_type": "code",
   "execution_count": 18,
   "id": "cf88a61c-e606-474b-a445-2477dc81a9fc",
   "metadata": {
    "tags": []
   },
   "outputs": [],
   "source": [
    "import s3fs"
   ]
  },
  {
   "cell_type": "code",
   "execution_count": 19,
   "id": "75d77b5b-5c46-4227-a37c-7af9c17e503f",
   "metadata": {
    "tags": []
   },
   "outputs": [],
   "source": [
    "bucket = 'alexaevafernando'\n",
    "\n",
    "file_name = 'ready.parquet'\n",
    "s3_uri = f\"s3://{bucket}/{file_name}\"\n",
    "\n",
    "fs = s3fs.S3FileSystem()\n",
    "\n",
    "with fs.open(s3_uri, 'wb')as f:\n",
    "    result.write_parquet(f)"
   ]
  },
  {
   "cell_type": "code",
   "execution_count": null,
   "id": "ca5f391f-7e2b-4a1e-a300-5bf68e5df4fa",
   "metadata": {},
   "outputs": [],
   "source": []
  }
 ],
 "metadata": {
  "kernelspec": {
   "display_name": "conda_python3",
   "language": "python",
   "name": "conda_python3"
  },
  "language_info": {
   "codemirror_mode": {
    "name": "ipython",
    "version": 3
   },
   "file_extension": ".py",
   "mimetype": "text/x-python",
   "name": "python",
   "nbconvert_exporter": "python",
   "pygments_lexer": "ipython3",
   "version": "3.10.13"
  }
 },
 "nbformat": 4,
 "nbformat_minor": 5
}
